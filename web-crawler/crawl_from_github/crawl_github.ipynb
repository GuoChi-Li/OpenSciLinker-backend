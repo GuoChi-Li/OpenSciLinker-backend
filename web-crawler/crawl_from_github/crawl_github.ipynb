{
 "cells": [
  {
   "cell_type": "code",
   "execution_count": 31,
   "metadata": {},
   "outputs": [],
   "source": [
    "import requests\n",
    "import json\n",
    "import os\n",
    "\n",
    "# Replace these placeholders with your GitHub username and personal access token\n",
    "username = 'USER_NAME'\n",
    "token = 'YOUR_TOKEN'\n",
    "\n",
    "# Create a session and set the authentication headers\n",
    "session = requests.Session()\n",
    "session.auth = (username, token)\n",
    "\n",
    "#save path\n",
    "save_to = \"github_crawl\"\n"
   ]
  },
  {
   "cell_type": "code",
   "execution_count": 49,
   "metadata": {},
   "outputs": [],
   "source": [
    "field_path = \"field.json\"\n",
    "with open(field_path, 'r') as json_file:\n",
    "        fields = json.load(json_file)"
   ]
  },
  {
   "cell_type": "code",
   "execution_count": 52,
   "metadata": {},
   "outputs": [],
   "source": [
    "os.mkdir(save_to)"
   ]
  },
  {
   "cell_type": "markdown",
   "metadata": {},
   "source": [
    "## Crawl Repository by Search Keyword (sorted by best matching)"
   ]
  },
  {
   "cell_type": "code",
   "execution_count": 54,
   "metadata": {},
   "outputs": [],
   "source": [
    "\n",
    "# GitHub API base URL for searching repositories\n",
    "base_url = 'https://api.github.com/search/repositories'\n",
    "\n",
    "# Keyword to search for\n",
    "\n",
    "\n",
    "# Number of results to fetch (GitHub API allows up to 50 per page)\n",
    "results_to_fetch = 50\n",
    "\n",
    "# Initialize a list to store the collected data\n",
    "repository_data = []\n",
    "\n",
    "# Function to fetch search results\n",
    "def fetch_search_results(keyword, page=1):\n",
    "\n",
    "    params = {\n",
    "        'q': keyword,\n",
    "        'per_page': results_to_fetch,\n",
    "        'page': page,\n",
    "\n",
    "    }\n",
    "\n",
    "    headers = {\n",
    "        'Authorization': f'token {token}',\n",
    "    }\n",
    "\n",
    "    response = requests.get(base_url, params=params, headers=headers)\n",
    "\n",
    "    if response.status_code == 200:\n",
    "        data = response.json()\n",
    "        return data['items']\n",
    "    else:\n",
    "        print(f\"Error fetching results. Status code: {response.status_code}\")\n",
    "        return []\n",
    "\n",
    "\n",
    "\n",
    "def search_from_keyword(key, save_json = True):\n",
    "\n",
    "    # Fetch the first 100 search results\n",
    "    for page in range(1, (results_to_fetch // 50) + 1):\n",
    "        search_results = fetch_search_results(key, page)\n",
    "        repository_data.extend(search_results)\n",
    "    \n",
    "\n",
    "    # Extract owner and repo name from the search results\n",
    "    result_data = [{'owner': item['owner']['login'], 'repo': item['name']} for item in repository_data]\n",
    "\n",
    "    # Save the collected data to a JSON file\n",
    "    if save_json:\n",
    "        with open(f'{save_to}/{key}.json', 'w') as json_file:\n",
    "            json.dump(result_data, json_file, indent=4)\n",
    "        print(f'Data saved to github_search_results.json for keyword: {key}')\n",
    "        return result_data\n",
    "    else:\n",
    "        return result_data\n",
    "\n",
    "    \n"
   ]
  },
  {
   "cell_type": "code",
   "execution_count": null,
   "metadata": {},
   "outputs": [],
   "source": [
    "\n",
    "# merge subfield as keywords\n",
    "sub = []\n",
    "sub_dict = {}\n",
    "for f in fields.keys():\n",
    "    for ssf in fields[f]:\n",
    "        sub.append(ssf)\n",
    "        sub_dict[ssf] = f\n"
   ]
  },
  {
   "cell_type": "code",
   "execution_count": null,
   "metadata": {},
   "outputs": [],
   "source": [
    "\n",
    "start_idx = 0\n",
    "\n",
    "for sub_idx, subfield in enumerate(sub):\n",
    "    if sub_idx <= start_idx:\n",
    "        continue\n",
    "    subfield_list = []          \n",
    "    print(f'searching {subfield}...')\n",
    "    search_result = search_from_keyword(subfield, False)\n",
    "    if search_result == None:\n",
    "        continue\n",
    "    #print(len(search_result))\n",
    "    for i, s in enumerate(search_result):\n",
    "        info = {}\n",
    "        info = {\"owner\": s[\"owner\"],\n",
    "                \"repo\":s[\"repo\"],\n",
    "                \"tags\": [sub_dict[subfield], subfield],\n",
    "                \"rank\": i\n",
    "                }\n",
    "        subfield_list.append(info)\n",
    "    if len(subfield_list) > 0:\n",
    "        with open(f'{save_to}/owner_repo_tags_until(sub_idx({sub_idx})).json', 'w') as json_file:\n",
    "                    json.dump(subfield_list, json_file, indent=4)\n",
    "    \n",
    "    "
   ]
  },
  {
   "cell_type": "markdown",
   "metadata": {},
   "source": [
    "## Crawl Details of Repository"
   ]
  },
  {
   "cell_type": "code",
   "execution_count": null,
   "metadata": {},
   "outputs": [],
   "source": [
    "import base64\n",
    "import tqdm"
   ]
  },
  {
   "cell_type": "code",
   "execution_count": null,
   "metadata": {},
   "outputs": [],
   "source": [
    "headers = {\n",
    "        'Authorization': f'token {token}',\n",
    "    }\n",
    "\n",
    "def crawl_info(repository_owner, repository_name, save_ph=\"\", save_result= True):\n",
    "\n",
    "    # Fetch the repository details\n",
    "    repo_url = f'https://api.github.com/repos/{repository_owner}/{repository_name}'\n",
    "    response = session.get(repo_url)\n",
    "\n",
    "    # Check if the request was successful (status code 200)\n",
    "    if response.status_code == 200:\n",
    "        repo_data = response.json()\n",
    "        \n",
    "        # Extract information from the response\n",
    "        author = repo_data[\"owner\"][\"login\"]\n",
    "        project_title = repo_data[\"name\"]\n",
    "        start_date = repo_data[\"created_at\"]\n",
    "        description = repo_data['description']\n",
    "        tags = repo_data[\"topics\"]\n",
    "        url = repo_data[\"html_url\"]\n",
    " \n",
    "        \n",
    "        # Fetch README content from the repository\n",
    "        readme_url = f\"https://api.github.com/repos/{repository_owner}/{repository_name}/readme\"\n",
    "        readme_response = requests.get(readme_url, headers=headers)\n",
    "        \n",
    "        if readme_response.status_code == 200:\n",
    "            readme_content = readme_response.json()[\"content\"]\n",
    "            # Decode the base64-encoded content\n",
    "            import base64\n",
    "            readme_content = base64.b64decode(readme_content).decode('utf-8')\n",
    "        else:\n",
    "            #readme_content = \"README not found\"\n",
    "            readme_content = \"\"\n",
    "\n",
    "        if description is None:\n",
    "            description = \"\"\n",
    "        \n",
    "        # Create a dictionary with the collected data\n",
    "        repo_info = {\n",
    "            \"author\": author,\n",
    "            \"title\": project_title,\n",
    "            \"Start Date\": start_date,\n",
    "            \"sub_tags\": tags,\n",
    "            \"about\": description,\n",
    "            \"url\": url,\n",
    "            \"ReadMe\": readme_content\n",
    "\n",
    "        }\n",
    "        \n",
    "        \n",
    "        return repo_info\n",
    "    else:\n",
    "        print(f\"Failed to retrieve repository data (status code {response.status_code})\")\n",
    "        return(response.status_code)\n",
    "\n"
   ]
  },
  {
   "cell_type": "code",
   "execution_count": null,
   "metadata": {},
   "outputs": [],
   "source": [
    "with open(f'github_crawl/merge_owner_repo_tags.json', 'r') as json_file:\n",
    "    all_targets = json.load(json_file)"
   ]
  },
  {
   "cell_type": "code",
   "execution_count": null,
   "metadata": {},
   "outputs": [],
   "source": [
    "start_idx = 0\n",
    "\n",
    "for loss_id in tqdm(len(all_targets)):\n",
    "    target = all_targets[loss_id]\n",
    "    result = crawl_info(target['owner'], target['repo'], save_result=False)\n",
    "    if result == 403: #do not have the permission\n",
    "        print(f\"end at {loss_id}, {target}\")\n",
    "        break\n",
    "    else:\n",
    "        result['main_tag'] = target['main_tag']\n",
    "        result[\"sub_tag\"] = target[\"sub_tag\"]+result[\"sub_tags\"]\n",
    "        #print(f\"crawl {result['author']}, {result['title']}\")\n",
    "        with open(f'github_crawl/crawl_info_no_tags/{target[\"owner\"]}_{target[\"repo\"]}.json', 'w') as json_file:\n",
    "            json.dump(result, json_file, indent=4)"
   ]
  }
 ],
 "metadata": {
  "kernelspec": {
   "display_name": "py39t",
   "language": "python",
   "name": "python3"
  },
  "language_info": {
   "codemirror_mode": {
    "name": "ipython",
    "version": 3
   },
   "file_extension": ".py",
   "mimetype": "text/x-python",
   "name": "python",
   "nbconvert_exporter": "python",
   "pygments_lexer": "ipython3",
   "version": "3.9.7"
  },
  "orig_nbformat": 4
 },
 "nbformat": 4,
 "nbformat_minor": 2
}
