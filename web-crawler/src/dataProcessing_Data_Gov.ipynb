{
 "cells": [
  {
   "cell_type": "code",
   "execution_count": 19,
   "metadata": {},
   "outputs": [],
   "source": [
    "import json\n",
    "import datetime"
   ]
  },
  {
   "cell_type": "markdown",
   "metadata": {},
   "source": [
    "If a project doesn't have these key, use empty string \"\".\n",
    "\n",
    "- title -> project_name\n",
    "- description -> project_description\n",
    "- project URL -> project_url_external\n",
    "- keywords -> sub_tag\n",
    "- category {GitHub_repo, Data, Project}\n",
    "- created_date (YYYY-MM-DD)\n",
    "- owner -> publisher\n"
   ]
  },
  {
   "cell_type": "code",
   "execution_count": 20,
   "metadata": {},
   "outputs": [],
   "source": [
    "num_pages = 310\n",
    "file_path = './../data/Data_Gov/2023107_data_' + str(num_pages) + 'Pages.json'\n",
    "save_path = './../data/Data_Gov/clean/2023107_data_' + str(num_pages) + 'Pages.json'"
   ]
  },
  {
   "cell_type": "code",
   "execution_count": 21,
   "metadata": {},
   "outputs": [],
   "source": [
    "json_data = []"
   ]
  },
  {
   "cell_type": "code",
   "execution_count": 22,
   "metadata": {},
   "outputs": [],
   "source": [
    "# Open the JSON file for reading\n",
    "with open(file_path, 'r') as file:\n",
    "    # Load the JSON data\n",
    "    data = json.load(file)\n",
    "    json_len = len(data)\n",
    "\n",
    "    for index in range(json_len):\n",
    "        project_name = data[index]['title']\n",
    "        project_description = data[index]['description']\n",
    "        project_url_external = data[index]['Project URL']\n",
    "        sub_tag =  \"\"\n",
    "        category = 'Data'\n",
    "        publisher = data[index]['publisher']\n",
    "\n",
    "        # formatting the date, e.g. January 19, 2021\n",
    "        try:\n",
    "            dateString = data[index]['created_date']\n",
    "            dateFormatter = \"%B %d, %Y\"\n",
    "            datetime_object = datetime.datetime.strptime(dateString, dateFormatter)\n",
    "            created_date = str(datetime_object.year) + '-' + str(datetime_object.month) + '-' + str(datetime_object.day)\n",
    "        except:\n",
    "            created_date = \"\"\n",
    "\n",
    "        try:\n",
    "            dateString = data[index]['updated_date']\n",
    "            dateFormatter = \"%B %d, %Y\"\n",
    "            datetime_object = datetime.datetime.strptime(dateString, dateFormatter)\n",
    "            updated_date = str(datetime_object.year) + '-' + str(datetime_object.month) + '-' + str(datetime_object.day)\n",
    "        except:\n",
    "            updated_date = \"\"\n",
    "\n",
    "        ###### Debugging ######\n",
    "        # print(project_name)\n",
    "        # print(project_description)\n",
    "        # print(project_url_external)\n",
    "        # print(sub_tag)\n",
    "        # print(category)\n",
    "        # print(created_date)\n",
    "        # print(updated_date)\n",
    "        # print(publisher)\n",
    "        ###### Debugging ######\n",
    "\n",
    "        json_data.append({\"project_name\": project_name, \"project_description\": project_description, \"project_url_external\": project_url_external, \"sub_tag\": sub_tag, \"category\": category, \"created_date\": created_date, \"updated_date\": updated_date, \"publisher\": publisher})\n",
    "\n"
   ]
  },
  {
   "cell_type": "code",
   "execution_count": 23,
   "metadata": {},
   "outputs": [],
   "source": [
    "json_data = json.dumps(json_data, indent=4)  # 'indent' for pretty formatting\n",
    "\n",
    "# Write the JSON string to the file\n",
    "with open(save_path, 'w', encoding='utf-8') as json_file:\n",
    "    json_file.write(json_data)"
   ]
  }
 ],
 "metadata": {
  "kernelspec": {
   "display_name": "WebCrawler",
   "language": "python",
   "name": "python3"
  },
  "language_info": {
   "codemirror_mode": {
    "name": "ipython",
    "version": 3
   },
   "file_extension": ".py",
   "mimetype": "text/x-python",
   "name": "python",
   "nbconvert_exporter": "python",
   "pygments_lexer": "ipython3",
   "version": "3.8.18"
  },
  "orig_nbformat": 4
 },
 "nbformat": 4,
 "nbformat_minor": 2
}
