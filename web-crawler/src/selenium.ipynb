{
 "cells": [
  {
   "cell_type": "code",
   "execution_count": 6,
   "metadata": {},
   "outputs": [],
   "source": [
    "from selenium import webdriver\n",
    "from selenium.webdriver.common.by import By\n",
    "import time"
   ]
  },
  {
   "cell_type": "markdown",
   "metadata": {},
   "source": [
    "# Test 1"
   ]
  },
  {
   "cell_type": "code",
   "execution_count": 7,
   "metadata": {},
   "outputs": [],
   "source": [
    "def test_eight_components():\n",
    "    driver = webdriver.Chrome('./../driver/chromedriver-mac-x64/chromedriver')\n",
    "\n",
    "    driver.get(\"https://www.selenium.dev/selenium/web/web-form.html\")\n",
    "\n",
    "    title = driver.title\n",
    "    assert title == \"Web form\"\n",
    "\n",
    "    driver.implicitly_wait(0.5)\n",
    "\n",
    "    text_box = driver.find_element(by=By.NAME, value=\"my-text\")\n",
    "    submit_button = driver.find_element(by=By.CSS_SELECTOR, value=\"button\")\n",
    "\n",
    "    time.sleep(5)\n",
    "\n",
    "    text_box.send_keys(\"Selenium\")\n",
    "    submit_button.click()\n",
    "\n",
    "    time.sleep(5)\n",
    "\n",
    "    message = driver.find_element(by=By.ID, value=\"message\")\n",
    "    value = message.text\n",
    "    assert value == \"Received!\"\n",
    "\n",
    "    time.sleep(5)\n",
    "\n",
    "    driver.quit()"
   ]
  },
  {
   "cell_type": "code",
   "execution_count": 8,
   "metadata": {},
   "outputs": [],
   "source": [
    "test_eight_components()"
   ]
  },
  {
   "cell_type": "markdown",
   "metadata": {},
   "source": [
    "# Test 2"
   ]
  },
  {
   "cell_type": "code",
   "execution_count": 9,
   "metadata": {},
   "outputs": [],
   "source": [
    "# Create a new instance of the Chrome driver\n",
    "driver = webdriver.Chrome('./../driver/chromedriver-mac-x64/chromedriver')\n",
    "\n",
    "# Open Google in the browser\n",
    "driver.get(\"https://www.google.com\")\n",
    "\n",
    "# Find the search input element by its name attribute\n",
    "search_box = driver.find_element_by_name(\"q\")\n",
    "\n",
    "# Type a search query\n",
    "search_box.send_keys(\"Python Selenium tutorial\")\n",
    "\n",
    "# Press Enter to submit the search\n",
    "search_box.send_keys(Keys.RETURN)\n",
    "\n",
    "# Wait for a few seconds to see the search results (you can adjust the time as needed)\n",
    "import time\n",
    "time.sleep(5)\n",
    "\n",
    "# Close the browser\n",
    "driver.quit()\n"
   ]
  }
 ],
 "metadata": {
  "kernelspec": {
   "display_name": "WebCrawler",
   "language": "python",
   "name": "python3"
  },
  "language_info": {
   "codemirror_mode": {
    "name": "ipython",
    "version": 3
   },
   "file_extension": ".py",
   "mimetype": "text/x-python",
   "name": "python",
   "nbconvert_exporter": "python",
   "pygments_lexer": "ipython3",
   "version": "3.8.18"
  },
  "orig_nbformat": 4
 },
 "nbformat": 4,
 "nbformat_minor": 2
}
